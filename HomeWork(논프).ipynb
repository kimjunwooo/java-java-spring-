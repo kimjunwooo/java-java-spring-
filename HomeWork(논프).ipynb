{
  "nbformat": 4,
  "nbformat_minor": 0,
  "metadata": {
    "colab": {
      "provenance": [],
      "authorship_tag": "ABX9TyMH3pL7fNN2XFEm3ZCaMLq6",
      "include_colab_link": true
    },
    "kernelspec": {
      "name": "python3",
      "display_name": "Python 3"
    },
    "language_info": {
      "name": "python"
    }
  },
  "cells": [
    {
      "cell_type": "markdown",
      "metadata": {
        "id": "view-in-github",
        "colab_type": "text"
      },
      "source": [
        "<a href=\"https://colab.research.google.com/github/kimjunwooo/java-java-spring-/blob/main/HomeWork(%EB%85%BC%ED%94%84).ipynb\" target=\"_parent\"><img src=\"https://colab.research.google.com/assets/colab-badge.svg\" alt=\"Open In Colab\"/></a>"
      ]
    },
    {
      "cell_type": "code",
      "execution_count": null,
      "metadata": {
        "id": "ZCCjrg_V_Mtx"
      },
      "outputs": [],
      "source": [
        "# 1번 문제\n",
        "\n",
        "def bubble_sort(list):\n",
        "    unsorted_until_index = len(list) - 1\n",
        "    sorted = False\n",
        "\n",
        "    while not sorted:\n",
        "        sorted = True\n",
        "        for i in range(unsorted_until_index):\n",
        "            if list[i] > list[i+1]:\n",
        "                list[i], list[i+1] = list[i + 1], list[i]\n",
        "                sorted = False\n",
        "        unsorted_until_index -= 1\n",
        "\n",
        "    return list\n"
      ]
    },
    {
      "cell_type": "code",
      "source": [
        "sorted_list = bubble_sort(list(map(int, input().split())))\n",
        "print(f\"정렬된 리스트 : \",sorted_list)\n",
        "print(f\"입력 받은 숫자 중에 2번째로 높은 숫자 : \" , sorted_list[len(sorted_list)-2])"
      ],
      "metadata": {
        "colab": {
          "base_uri": "https://localhost:8080/"
        },
        "id": "1t5VOivoCQt3",
        "outputId": "45ffe8ff-96bd-4314-d175-9dfee63ca671"
      },
      "execution_count": null,
      "outputs": [
        {
          "output_type": "stream",
          "name": "stdout",
          "text": [
            "50 40 30 20 10\n",
            "정렬된 리스트 :  [10, 20, 30, 40, 50]\n",
            "입력 받은 숫자 중에 2번째로 높은 숫자 :  40\n"
          ]
        }
      ]
    },
    {
      "cell_type": "code",
      "source": [
        "# 2번 문제\n",
        "\n",
        "def max_int(list):\n",
        "  if list[0] <= list[1]:\n",
        "    return list[1]\n",
        "  else:\n",
        "    return list[0]"
      ],
      "metadata": {
        "id": "RjjzcoKGD7Rd"
      },
      "execution_count": null,
      "outputs": []
    },
    {
      "cell_type": "code",
      "source": [
        "maximum = max_int(list(map(int, input().split())))\n",
        "if maximum >= 1 and maximum <= 10:\n",
        "  print(\"*\" * maximum)\n",
        "else:\n",
        "  print(\"1부터 10까지 범위 내의 숫자를 입력해주세요.\")"
      ],
      "metadata": {
        "colab": {
          "base_uri": "https://localhost:8080/"
        },
        "id": "drlhF35OEQZk",
        "outputId": "05f522c7-3824-49e7-b3c2-57112bd64107"
      },
      "execution_count": null,
      "outputs": [
        {
          "output_type": "stream",
          "name": "stdout",
          "text": [
            "8 2\n",
            "********\n"
          ]
        }
      ]
    },
    {
      "cell_type": "code",
      "source": [],
      "metadata": {
        "id": "FjQx8qINEYCY"
      },
      "execution_count": null,
      "outputs": []
    }
  ]
}